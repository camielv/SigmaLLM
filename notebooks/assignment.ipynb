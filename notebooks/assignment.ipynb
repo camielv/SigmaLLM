{
 "cells": [
  {
   "cell_type": "markdown",
   "id": "fb999296",
   "metadata": {},
   "source": [
    "# Assigning Applicants to Horizontals"
   ]
  },
  {
   "cell_type": "code",
   "execution_count": null,
   "id": "887f5ff4",
   "metadata": {},
   "outputs": [],
   "source": [
    "from pathlib import Path\n",
    "\n",
    "import pandas as pd\n",
    "\n",
    "# Load the CSV\n",
    "venture_data_csv = Path(\"..\") / \"data\" / \"venture_data.csv\"\n",
    "df = pd.read_csv(venture_data_csv)"
   ]
  },
  {
   "cell_type": "code",
   "execution_count": null,
   "id": "34698852",
   "metadata": {},
   "outputs": [],
   "source": [
    "from enum import Enum\n",
    "from typing import Tuple\n",
    "\n",
    "from pydantic import BaseModel, Field\n",
    "\n",
    "class Horizontal(str, Enum):\n",
    "    ai_ml = \"Artificial Intelligence and Machine Learning\"\n",
    "    climate = \"Climate\"\n",
    "    creator_economy = \"Creator Economy\"\n",
    "    education = \"Education\"\n",
    "    hardware = \"Hardware\"\n",
    "    healthcare = \"Healthcare\"\n",
    "    revenue_org = \"Revenue Organisation\"\n",
    "    social_entrepreneurship = \"Social Entrepreneurship\"\n",
    "    web3 = \"Web3\"\n",
    "\n",
    "class Classification(BaseModel):\n",
    "    horizontal: Horizontal\n",
    "    confidence: float = Field(ge=0.0, le=1.0)\n",
    "    argumentation: str\n",
    "\n",
    "class Top2(BaseModel):\n",
    "    top: Tuple[Classification, Classification]\n",
    "\n",
    "system_prompt = f\"\"\"\n",
    "You have to classify applicants into the following horizontals based on their application:\n",
    "\n",
    "- Artificial Intelligence & Machine Learning: machine learning, data science, AI, models, neural networks, prompt engineering, TensorFlow, PyTorch, automation, prediction, ethical AI.\n",
    "- Climate: sustainability, carbon neutrality, green tech, environmental activism, emissions, net zero, biodiversity, climate action.\n",
    "- Creator Economy: content creation, YouTube, TikTok, podcasting, personal brand, monetization, online communities, creative tools, video editing.\n",
    "- Education: learning, teaching, mentoring, access to education, tutoring, EdTech, educational content, pedagogy, MOOCs, learning gaps, curriculum.\n",
    "- Hardware: devices, IoT, robotics, electronics, mechanical design, physical products, wearables, sensors, embedded systems, prototyping, Arduino, CAD.\n",
    "- Healthcare: health, medicine, wellness, mental health, biotech, public health, clinical work, med school, diagnostics, health data, patient care.\n",
    "- Revenue Organisation: sales, growth, marketing, monetization, CAC, LTV, GTM strategy, funnel optimization, CRM, growth loops, pricing.\n",
    "- Social Entrepreneurship: impact, equity, inclusion, fairness, NGOs, non-profits, impact startups, volunteering.\n",
    "- Web3: blockchain, crypto, decentralization, smart contracts, DAOs, NFTs, DeFi, Web3 infrastructure, ownership, transparency, or trustless systems\n",
    "\n",
    "Output the horizontal, your confidence and reasoning for your top 2.\n",
    "\"\"\"\n",
    "\n",
    "def format_prompt(row):\n",
    "    return f\"\"\"\n",
    "Applicant    \n",
    "Self Description: {row['Self Description']}\n",
    "Venture Description: {row['Venture Description']}\n",
    "Venture Industry: {row['Venture Industry']}\n",
    "Venture Market: {row['Venture Market']}\n",
    "Venture Technology: {row['Venture Technology']}\n",
    "Venture KPIs: {row['Venture KPIs']}\n",
    "Venture Problem: {row['Venture Problem']}\n",
    "Venture Impact: {row['Venture Impact']}\n",
    "Venture Vision: {row['Venture Vision']}\n",
    "Venture SDGs: {row['Venture SDGs']}\n",
    "\n",
    "Please classify this applicant into a horizontal.\n",
    "\"\"\""
   ]
  },
  {
   "cell_type": "code",
   "execution_count": null,
   "id": "081069d7",
   "metadata": {},
   "outputs": [],
   "source": [
    "# Example prompt\n",
    "print(format_prompt(df.iloc[0]))"
   ]
  },
  {
   "cell_type": "code",
   "execution_count": null,
   "id": "80f716ee",
   "metadata": {},
   "outputs": [],
   "source": [
    "import ollama, outlines\n",
    "\n",
    "client = ollama.Client()\n",
    "model = outlines.from_ollama(\n",
    "    client,\n",
    "    \"mistral\",\n",
    ")"
   ]
  },
  {
   "cell_type": "markdown",
   "id": "1f55b283",
   "metadata": {},
   "source": [
    "## Toy Example"
   ]
  },
  {
   "cell_type": "code",
   "execution_count": null,
   "id": "3fa3e948",
   "metadata": {},
   "outputs": [],
   "source": [
    "model(\"Hello, what is the meaning of life?\")"
   ]
  },
  {
   "cell_type": "markdown",
   "id": "9219e9fd",
   "metadata": {},
   "source": [
    "## Assignment"
   ]
  },
  {
   "cell_type": "code",
   "execution_count": null,
   "id": "40ce083a",
   "metadata": {},
   "outputs": [],
   "source": [
    "import logging\n",
    "\n",
    "# Basic logging setup\n",
    "logging.basicConfig(\n",
    "    filename=\"prediction.log\",\n",
    "    level=logging.INFO,\n",
    "    format='%(asctime)s | %(levelname)s | %(message)s'\n",
    ")"
   ]
  },
  {
   "cell_type": "markdown",
   "id": "c26d5587",
   "metadata": {},
   "source": [
    "## "
   ]
  },
  {
   "cell_type": "code",
   "execution_count": null,
   "id": "24fe27ad",
   "metadata": {},
   "outputs": [],
   "source": [
    "from tqdm import tqdm\n",
    "\n",
    "horizontals = []\n",
    "confidences = []\n",
    "arguments = []\n",
    "\n",
    "for idx, row in tqdm(df.iterrows(), total=len(df)):\n",
    "    prompt = format_prompt(row)\n",
    "    logging.info(f'Self Description: {row[\"Self Description\"]}')\n",
    "    logging.info(f'Venture Description: {row[\"Venture Description\"]}')\n",
    "    output = model(system_prompt + prompt, Top2)\n",
    "    logging.info(output)\n",
    "    predictions = Top2.model_validate_json(output)\n",
    "    predictions = predictions.model_dump()\n",
    "    predictions = predictions[\"top\"]\n",
    "    horizontal_prediction = []\n",
    "    confidence_prediction = []\n",
    "    argument_prediction = []\n",
    "    for prediction in predictions:\n",
    "        horizontal_prediction.append(prediction[\"horizontal\"].value)\n",
    "        confidence_prediction.append(float(prediction[\"confidence\"]))\n",
    "        argument_prediction.append(str(prediction[\"argumentation\"]))\n",
    "    horizontals.append(horizontal_prediction)\n",
    "    confidences.append(confidence_prediction)\n",
    "    arguments.append(argument_prediction)\n",
    "\n",
    "df[\"Predicted Horizontal\"] = horizontals\n",
    "df[\"Confidence\"] = confidences\n",
    "df[\"Argumentation\"] = arguments"
   ]
  },
  {
   "cell_type": "code",
   "execution_count": null,
   "id": "0bf677c0",
   "metadata": {},
   "outputs": [],
   "source": [
    "df[[\"Horizontal 1\", \"Horizontal 2\"]] = pd.DataFrame(df[\"Predicted Horizontal\"].to_list(), index=df.index)\n",
    "df[[\"Confidence 1\", \"Confidence 2\"]] = pd.DataFrame(df[\"Confidence\"].to_list(), index=df.index)\n",
    "df[[\"Argumentation 1\", \"Argumentation 2\"]] = pd.DataFrame(df[\"Argumentation\"].to_list(), index=df.index)"
   ]
  },
  {
   "cell_type": "code",
   "execution_count": null,
   "id": "096d1b4d",
   "metadata": {},
   "outputs": [],
   "source": [
    "df = df.drop(columns=[\"Predicted Horizontal\", \"Confidence\", \"Argumentation\"])\n",
    "df.to_csv(\"classified_applicants.csv\", index=False)"
   ]
  }
 ],
 "metadata": {
  "kernelspec": {
   "display_name": "Python (Ollama)",
   "language": "python",
   "name": "my-ollama-kernel"
  },
  "language_info": {
   "codemirror_mode": {
    "name": "ipython",
    "version": 3
   },
   "file_extension": ".py",
   "mimetype": "text/x-python",
   "name": "python",
   "nbconvert_exporter": "python",
   "pygments_lexer": "ipython3",
   "version": "3.12.10"
  }
 },
 "nbformat": 4,
 "nbformat_minor": 5
}
