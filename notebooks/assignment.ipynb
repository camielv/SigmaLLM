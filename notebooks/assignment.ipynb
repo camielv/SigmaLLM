{
 "cells": [
  {
   "cell_type": "markdown",
   "id": "fb999296",
   "metadata": {},
   "source": [
    "# Assigning Applicants to Horizontals"
   ]
  },
  {
   "cell_type": "code",
   "execution_count": null,
   "id": "887f5ff4",
   "metadata": {},
   "outputs": [],
   "source": [
    "from pathlib import Path\n",
    "\n",
    "import pandas as pd\n",
    "\n",
    "# Load the CSV\n",
    "venture_data_csv = Path(\"..\") / \"data\" / \"venture_data.csv\"\n",
    "df = pd.read_csv(venture_data_csv)"
   ]
  },
  {
   "cell_type": "code",
   "execution_count": 2,
   "id": "34698852",
   "metadata": {},
   "outputs": [],
   "source": [
    "from enum import Enum\n",
    "from typing import Tuple\n",
    "\n",
    "from pydantic import BaseModel, Field\n",
    "\n",
    "class Horizontal(str, Enum):\n",
    "    ai_ml = \"Artificial Intelligence and Machine Learning\"\n",
    "    climate = \"Climate\"\n",
    "    creator_economy = \"Creator Economy\"\n",
    "    education = \"Education\"\n",
    "    hardware = \"Hardware\"\n",
    "    healthcare = \"Healthcare\"\n",
    "    revenue_org = \"Revenue Organisation\"\n",
    "    social_entrepreneurship = \"Social Entrepreneurship\"\n",
    "    web3 = \"Web3\"\n",
    "\n",
    "class Classification(BaseModel):\n",
    "    horizontal: Horizontal\n",
    "    confidence: float = Field(ge=0.0, le=1.0)\n",
    "    argumentation: str\n",
    "\n",
    "class Top2(BaseModel):\n",
    "    top: Tuple[Classification, Classification]\n",
    "\n",
    "system_prompt = f\"\"\"\n",
    "You have to classify applicants into the following horizontals based on their application:\n",
    "\n",
    "- Artificial Intelligence & Machine Learning: machine learning, data science, AI, models, neural networks, prompt engineering, TensorFlow, PyTorch, automation, prediction, ethical AI.\n",
    "- Climate: sustainability, carbon neutrality, green tech, environmental activism, emissions, net zero, biodiversity, climate action.\n",
    "- Creator Economy: content creation, YouTube, TikTok, podcasting, personal brand, monetization, online communities, creative tools, video editing.\n",
    "- Education: learning, teaching, mentoring, access to education, tutoring, EdTech, educational content, pedagogy, MOOCs, learning gaps, curriculum.\n",
    "- Hardware: devices, IoT, robotics, electronics, mechanical design, physical products, wearables, sensors, embedded systems, prototyping, Arduino, CAD.\n",
    "- Healthcare: health, medicine, wellness, mental health, biotech, public health, clinical work, med school, diagnostics, health data, patient care.\n",
    "- Revenue Organisation: sales, growth, marketing, monetization, CAC, LTV, GTM strategy, funnel optimization, CRM, growth loops, pricing.\n",
    "- Social Entrepreneurship: impact, equity, inclusion, fairness, NGOs, non-profits, impact startups, volunteering.\n",
    "- Web3: blockchain, crypto, decentralization, smart contracts, DAOs, NFTs, DeFi, Web3 infrastructure, ownership, transparency, or trustless systems\n",
    "\n",
    "Output the horizontal, your confidence and reasoning for your top 2.\n",
    "\"\"\"\n",
    "\n",
    "def format_prompt(row):\n",
    "    return f\"\"\"\n",
    "Applicant    \n",
    "Self Description: {row['Self Description']}\n",
    "Venture Description: {row['Venture Description']}\n",
    "Venture Industry: {row['Venture Industry']}\n",
    "Venture Market: {row['Venture Market']}\n",
    "Venture Technology: {row['Venture Technology']}\n",
    "Venture KPIs: {row['Venture KPIs']}\n",
    "Venture Problem: {row['Venture Problem']}\n",
    "Venture Impact: {row['Venture Impact']}\n",
    "Venture Vision: {row['Venture Vision']}\n",
    "Venture SDGs: {row['Venture SDGs']}\n",
    "\n",
    "Please classify this applicant into a horizontal.\n",
    "\"\"\""
   ]
  },
  {
   "cell_type": "code",
   "execution_count": null,
   "id": "081069d7",
   "metadata": {},
   "outputs": [
    {
     "name": "stdout",
     "output_type": "stream",
     "text": [
      "\n",
      "Applicant    \n",
      "Self Description: I am an optimistic person who loves to get to know other people and exchange; while hard work is important for my startup, I need the social aspect of life and meeting other people; I would consider myself an extrovert. For me, having fun and dedication is important in whatever I am doing — I always try to see the world in a positive way. \n",
      "Venture Description: \n",
      "Senior Connect is a platform that connects experienced professionals aged 50+ with companies to address skill shortages through precise skill and cultural matching. By fostering a generation-inclusive workforce, we enable businesses to thrive while empowering senior professionals to stay active and valued.\n",
      "Venture Industry: HR & Employment,Education\n",
      "Venture Market: Businesses & Organizations (B2B)\n",
      "Venture Technology: AI & ML\n",
      "Venture KPIs: 22 Paying (Pilot) Customers \n",
      "Talentpool of 100.000 Senior Professionals \n",
      "\n",
      "Winner of the AI+Munich Pitch Night, awarded $250,000 in Google Cloud Credits to further develop the platform. \n",
      "Participated in the Silicon Valley Accelerator and AI+Munich to validate and scale the business model.\n",
      "Awards: Social Impact Award Germany, SENovation Award, German Demography Award (Finalist).\n",
      "Venture Problem: (1) the growing global talent shortage and (2) the underutilization of experienced professionals aged 50+. Companies face increasing difficulty finding qualified candidates, leading to inefficiencies and unfilled roles, while senior professionals often encounter age-related biases and limited access to job opportunities that value their expertise. This wastes valuable knowledge and skills, leaving a critical talent pool untapped. We decided to tackle this problem because we believe in the importance of fostering a generation-inclusive workforce where experience and knowledge are recognized as assets. I came across that issue when I was talking to my grandma, who is still working in our local library after she has retired. Unfortunately, many of her friends also wanted to continue working but could not find employment opportunities. \n",
      "Venture Impact: Past Impact: We’ve successfully connected senior professionals with fulfilling job opportunities, fostering social inclusion and reducing age discrimination in the workforce. This has empowered individuals to stay active, transfer knowledge, and contribute to intergenerational collaboration. Companies have benefited from diverse teams, improving productivity and innovation.\n",
      "\n",
      "Planned Impact: We aim to create 50,000 sustainable jobs for senior professionals in the next 5 years, fostering knowledge-sharing and reducing systemic age bias. \n",
      "By bridging the gap between experienced talent and businesses, we are strengthening economic resilience, promoting workplace equity, and contributing to a more inclusive society.\n",
      "Venture Vision: Our vision is to create a generation-inclusive workforce where senior professionals  are valued for their expertise, addressing the growing global talent shortage while fostering collaboration across age groups. \n",
      "In the next 3–5 years, we aim to become the leading platform for senior talent in Europe, scaling our AI-powered matching technology to new industries and markets.\n",
      "\n",
      "Beyond recruitment, we envision Senior Connect as a driving force in redefining workplace diversity and inclusion, promoting knowledge transfer and reducing systemic age bias. By enabling businesses to unlock the potential of senior professionals, we are solving labor market challenges and contributing to a more sustainable and equitable future of work.\n",
      "Venture SDGs: GOAL 1: No Poverty,GOAL 3: Good Health and Well-being,GOAL 4: Quality Education,GOAL 8: Decent Work and Economic Growth,GOAL 10: Reduced Inequality\n",
      "\n",
      "Please classify this applicant into a horizontal.\n",
      "\n"
     ]
    }
   ],
   "source": [
    "# Example prompt\n",
    "print(format_prompt(df.iloc[0]))"
   ]
  },
  {
   "cell_type": "code",
   "execution_count": 4,
   "id": "80f716ee",
   "metadata": {},
   "outputs": [],
   "source": [
    "import ollama, outlines\n",
    "\n",
    "client = ollama.Client()\n",
    "model = outlines.from_ollama(\n",
    "    client,\n",
    "    \"mistral\",\n",
    ")"
   ]
  },
  {
   "cell_type": "markdown",
   "id": "1f55b283",
   "metadata": {},
   "source": [
    "## Toy Example"
   ]
  },
  {
   "cell_type": "code",
   "execution_count": 7,
   "id": "3fa3e948",
   "metadata": {},
   "outputs": [
    {
     "data": {
      "text/plain": [
       "\" The question about the meaning of life has been asked for centuries and there's no one definitive answer. Many philosophers, scientists, and thinkers have proposed various theories. Some suggest that life has no inherent meaning and we must create our own purpose, while others propose that life's meaning could be related to personal growth, love, or the pursuit of knowledge. Ultimately, the meaning of life may be something deeply personal and unique to each individual. It is a question that invites introspection and exploration of one's values, beliefs, and goals.\""
      ]
     },
     "execution_count": 7,
     "metadata": {},
     "output_type": "execute_result"
    }
   ],
   "source": [
    "model(\"Hello, what is the meaning of life?\")"
   ]
  },
  {
   "cell_type": "markdown",
   "id": "9219e9fd",
   "metadata": {},
   "source": [
    "## Assignment"
   ]
  },
  {
   "cell_type": "code",
   "execution_count": 9,
   "id": "40ce083a",
   "metadata": {},
   "outputs": [],
   "source": [
    "import logging\n",
    "\n",
    "# Basic logging setup\n",
    "logging.basicConfig(\n",
    "    filename=\"prediction.log\",\n",
    "    level=logging.INFO,\n",
    "    format='%(asctime)s | %(levelname)s | %(message)s'\n",
    ")"
   ]
  },
  {
   "cell_type": "markdown",
   "id": "c26d5587",
   "metadata": {},
   "source": [
    "## "
   ]
  },
  {
   "cell_type": "code",
   "execution_count": 12,
   "id": "24fe27ad",
   "metadata": {},
   "outputs": [
    {
     "name": "stderr",
     "output_type": "stream",
     "text": [
      "100%|██████████| 654/654 [8:09:15<00:00, 44.89s/it]    \n"
     ]
    }
   ],
   "source": [
    "from tqdm import tqdm\n",
    "\n",
    "horizontals = []\n",
    "confidences = []\n",
    "arguments = []\n",
    "\n",
    "for idx, row in tqdm(df.iterrows(), total=len(df)):\n",
    "    prompt = format_prompt(row)\n",
    "    logging.info(f'Self Description: {row[\"Self Description\"]}')\n",
    "    logging.info(f'Venture Description: {row[\"Venture Description\"]}')\n",
    "    output = model(system_prompt + prompt, Top2)\n",
    "    logging.info(output)\n",
    "    predictions = Top2.model_validate_json(output)\n",
    "    predictions = predictions.model_dump()\n",
    "    predictions = predictions[\"top\"]\n",
    "    horizontal_prediction = []\n",
    "    confidence_prediction = []\n",
    "    argument_prediction = []\n",
    "    for prediction in predictions:\n",
    "        horizontal_prediction.append(prediction[\"horizontal\"].value)\n",
    "        confidence_prediction.append(float(prediction[\"confidence\"]))\n",
    "        argument_prediction.append(str(prediction[\"argumentation\"]))\n",
    "    horizontals.append(horizontal_prediction)\n",
    "    confidences.append(confidence_prediction)\n",
    "    arguments.append(argument_prediction)\n",
    "\n",
    "df[\"Predicted Horizontal\"] = horizontals\n",
    "df[\"Confidence\"] = confidences\n",
    "df[\"Argumentation\"] = arguments"
   ]
  },
  {
   "cell_type": "code",
   "execution_count": 14,
   "id": "0bf677c0",
   "metadata": {},
   "outputs": [],
   "source": [
    "df[[\"Horizontal 1\", \"Horizontal 2\"]] = pd.DataFrame(df[\"Predicted Horizontal\"].to_list(), index=df.index)\n",
    "df[[\"Confidence 1\", \"Confidence 2\"]] = pd.DataFrame(df[\"Confidence\"].to_list(), index=df.index)\n",
    "df[[\"Argumentation 1\", \"Argumentation 2\"]] = pd.DataFrame(df[\"Argumentation\"].to_list(), index=df.index)"
   ]
  },
  {
   "cell_type": "code",
   "execution_count": null,
   "id": "096d1b4d",
   "metadata": {},
   "outputs": [],
   "source": [
    "df = df.drop(columns=[\"Predicted Horizontal\", \"Confidence\", \"Argumentation\"])\n",
    "df.to_csv(\"classified_applicants.csv\", index=False)"
   ]
  }
 ],
 "metadata": {
  "kernelspec": {
   "display_name": "Python (Ollama)",
   "language": "python",
   "name": "my-ollama-kernel"
  },
  "language_info": {
   "codemirror_mode": {
    "name": "ipython",
    "version": 3
   },
   "file_extension": ".py",
   "mimetype": "text/x-python",
   "name": "python",
   "nbconvert_exporter": "python",
   "pygments_lexer": "ipython3",
   "version": "3.12.10"
  }
 },
 "nbformat": 4,
 "nbformat_minor": 5
}
